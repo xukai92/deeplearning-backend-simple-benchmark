{
 "cells": [
  {
   "cell_type": "code",
   "execution_count": 1,
   "metadata": {},
   "outputs": [],
   "source": [
    "%matplotlib inline\n",
    "\n",
    "import numpy as np\n",
    "import tensorflow as tf\n",
    "import matplotlib.pyplot as plt"
   ]
  },
  {
   "cell_type": "code",
   "execution_count": 2,
   "metadata": {},
   "outputs": [],
   "source": [
    "# Generate some synthetic data\n",
    "x = np.random.randn(100, 50)\n",
    "w = np.random.randn(50, 10)\n",
    "y_prob = np.exp(np.dot(x, w)); y_norm = np.sum(y_prob, axis=1)\n",
    "y_prob = np.apply_along_axis(lambda x : x / y_norm, 0, y_prob)\n",
    "\n",
    "def draw(probs):\n",
    "    y = np.zeros(np.shape(probs))\n",
    "    for i in np.arange(np.shape(probs)[0]):\n",
    "        idx = np.random.choice(len(probs[i,:]), 1, p=probs[i,:])\n",
    "        y[i,idx] = 1\n",
    "    return y\n",
    "\n",
    "y = draw(y_prob)"
   ]
  },
  {
   "cell_type": "code",
   "execution_count": 3,
   "metadata": {},
   "outputs": [],
   "source": [
    "# Build the model\n",
    "sess = tf.Session()\n",
    "\n",
    "X = tf.placeholder(tf.float32, [None, 50])\n",
    "Y_obs = tf.placeholder(tf.float32)\n",
    "\n",
    "W = tf.Variable(tf.random_normal([50, 10]))\n",
    "B = tf.Variable(tf.zeros([10]))\n",
    "    \n",
    "Y = tf.nn.softmax(tf.matmul(X, W) + B)\n",
    "\n",
    "loss = -tf.reduce_sum(tf.log(Y) * Y_obs)\n",
    "optimizer = tf.train.AdamOptimizer()\n",
    "minimize_op = optimizer.minimize(loss)\n",
    "saver = tf.train.Saver()"
   ]
  },
  {
   "cell_type": "code",
   "execution_count": 4,
   "metadata": {},
   "outputs": [
    {
     "name": "stdout",
     "output_type": "stream",
     "text": [
      "Epoch 100; current loss is 795.039428711.\n",
      "Epoch 200; current loss is 618.680786133.\n",
      "Epoch 300; current loss is 468.441741943.\n",
      "Epoch 400; current loss is 347.277404785.\n",
      "Epoch 500; current loss is 250.257247925.\n",
      "Epoch 600; current loss is 175.018173218.\n",
      "Epoch 700; current loss is 119.744552612.\n",
      "Epoch 800; current loss is 77.8625030518.\n",
      "Epoch 900; current loss is 46.7542686462.\n",
      "Epoch 1000; current loss is 28.6555595398.\n"
     ]
    }
   ],
   "source": [
    "# Run training\n",
    "sess.run(tf.global_variables_initializer())\n",
    "\n",
    "loss_his = []\n",
    "\n",
    "for epoch in np.arange(1,1000+1):\n",
    "    cur_loss, _ = sess.run([loss, minimize_op], \n",
    "                           feed_dict={X: x, Y_obs: y})\n",
    "    loss_his.append(cur_loss)\n",
    "    if epoch % 100 == 0:\n",
    "        print \"Epoch {0}; current loss is {1}.\".format(epoch, cur_loss)\n",
    "        saver.save(sess, \"/tmp/tmpfhA5bU/logistic-python\", global_step=epoch)"
   ]
  },
  {
   "cell_type": "code",
   "execution_count": 5,
   "metadata": {},
   "outputs": [
    {
     "data": {
      "text/plain": [
       "[<matplotlib.lines.Line2D at 0x7f8313febe50>]"
      ]
     },
     "execution_count": 5,
     "metadata": {},
     "output_type": "execute_result"
    },
    {
     "data": {
      "image/png": "[encoded data removed]",
      "text/plain": [
       "<matplotlib.figure.Figure at 0x7f8319b9b210>"
      ]
     },
     "metadata": {},
     "output_type": "display_data"
    }
   ],
   "source": [
    "plt.plot(loss_his)"
   ]
  },
  {
   "cell_type": "code",
   "execution_count": null,
   "metadata": {
    "collapsed": true
   },
   "outputs": [],
   "source": []
  }
 ],
 "metadata": {
  "kernelspec": {
   "display_name": "Python 2",
   "language": "python",
   "name": "python2"
  },
  "language_info": {
   "codemirror_mode": {
    "name": "ipython",
    "version": 2
   },
   "file_extension": ".py",
   "mimetype": "text/x-python",
   "name": "python",
   "nbconvert_exporter": "python",
   "pygments_lexer": "ipython2",
   "version": "2.7.13"
  }
 },
 "nbformat": 4,
 "nbformat_minor": 2
}
