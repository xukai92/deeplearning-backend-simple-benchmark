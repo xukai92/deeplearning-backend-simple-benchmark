{
 "cells": [
  {
   "cell_type": "code",
   "execution_count": 1,
   "metadata": {},
   "outputs": [
    {
     "data": {
      "text/plain": [
       "Plots.PyPlotBackend()"
      ]
     },
     "execution_count": 1,
     "metadata": {},
     "output_type": "execute_result"
    }
   ],
   "source": [
    "using Distributions, TensorFlow\n",
    "using Plots; pyplot()"
   ]
  },
  {
   "cell_type": "code",
   "execution_count": 2,
   "metadata": {},
   "outputs": [
    {
     "name": "stderr",
     "output_type": "stream",
     "text": [
      "\u001b[1m\u001b[33mWARNING: \u001b[39m\u001b[22m\u001b[33mexp{T <: Number}(x::AbstractArray{T}) is deprecated, use exp.(x) instead.\u001b[39m\n",
      "Stacktrace:\n",
      " [1] \u001b[1mdepwarn\u001b[22m\u001b[22m\u001b[1m(\u001b[22m\u001b[22m::String, ::Symbol\u001b[1m)\u001b[22m\u001b[22m at \u001b[1m./deprecated.jl:70\u001b[22m\u001b[22m\n",
      " [2] \u001b[1mexp\u001b[22m\u001b[22m\u001b[1m(\u001b[22m\u001b[22m::Array{Float64,2}\u001b[1m)\u001b[22m\u001b[22m at \u001b[1m./deprecated.jl:57\u001b[22m\u001b[22m\n",
      " [3] \u001b[1minclude_string\u001b[22m\u001b[22m\u001b[1m(\u001b[22m\u001b[22m::String, ::String\u001b[1m)\u001b[22m\u001b[22m at \u001b[1m./loading.jl:515\u001b[22m\u001b[22m\n",
      " [4] \u001b[1minclude_string\u001b[22m\u001b[22m\u001b[1m(\u001b[22m\u001b[22m::Module, ::String, ::String\u001b[1m)\u001b[22m\u001b[22m at \u001b[1m/home/kai/.julia/v0.6/Compat/src/Compat.jl:407\u001b[22m\u001b[22m\n",
      " [5] \u001b[1mexecute_request\u001b[22m\u001b[22m\u001b[1m(\u001b[22m\u001b[22m::ZMQ.Socket, ::IJulia.Msg\u001b[1m)\u001b[22m\u001b[22m at \u001b[1m/home/kai/.julia/v0.6/IJulia/src/execute_request.jl:154\u001b[22m\u001b[22m\n",
      " [6] \u001b[1meventloop\u001b[22m\u001b[22m\u001b[1m(\u001b[22m\u001b[22m::ZMQ.Socket\u001b[1m)\u001b[22m\u001b[22m at \u001b[1m/home/kai/.julia/v0.6/IJulia/src/eventloop.jl:8\u001b[22m\u001b[22m\n",
      " [7] \u001b[1m(::IJulia.##14#17)\u001b[22m\u001b[22m\u001b[1m(\u001b[22m\u001b[22m\u001b[1m)\u001b[22m\u001b[22m at \u001b[1m./task.jl:335\u001b[22m\u001b[22m\n",
      "while loading In[2], in expression starting on line 4\n"
     ]
    },
    {
     "data": {
      "text/plain": [
       "100×10 Array{Float64,2}:\n",
       " 0.0  0.0  0.0  0.0  1.0  0.0  0.0  0.0  0.0  0.0\n",
       " 1.0  0.0  0.0  0.0  0.0  0.0  0.0  0.0  0.0  0.0\n",
       " 0.0  0.0  0.0  0.0  0.0  1.0  0.0  0.0  0.0  0.0\n",
       " 0.0  0.0  0.0  0.0  0.0  0.0  0.0  0.0  0.0  1.0\n",
       " 0.0  0.0  0.0  1.0  0.0  0.0  0.0  0.0  0.0  0.0\n",
       " 0.0  0.0  0.0  0.0  0.0  0.0  0.0  0.0  0.0  1.0\n",
       " 0.0  0.0  0.0  0.0  0.0  0.0  0.0  0.0  1.0  0.0\n",
       " 1.0  0.0  0.0  0.0  0.0  0.0  0.0  0.0  0.0  0.0\n",
       " 0.0  0.0  0.0  0.0  0.0  0.0  0.0  0.0  1.0  0.0\n",
       " 0.0  0.0  0.0  1.0  0.0  0.0  0.0  0.0  0.0  0.0\n",
       " 1.0  0.0  0.0  0.0  0.0  0.0  0.0  0.0  0.0  0.0\n",
       " 0.0  1.0  0.0  0.0  0.0  0.0  0.0  0.0  0.0  0.0\n",
       " 0.0  0.0  0.0  0.0  0.0  0.0  0.0  0.0  1.0  0.0\n",
       " ⋮                        ⋮                      \n",
       " 1.0  0.0  0.0  0.0  0.0  0.0  0.0  0.0  0.0  0.0\n",
       " 0.0  0.0  0.0  0.0  0.0  0.0  0.0  1.0  0.0  0.0\n",
       " 0.0  0.0  0.0  0.0  0.0  0.0  0.0  0.0  0.0  1.0\n",
       " 0.0  0.0  0.0  0.0  1.0  0.0  0.0  0.0  0.0  0.0\n",
       " 0.0  0.0  0.0  1.0  0.0  0.0  0.0  0.0  0.0  0.0\n",
       " 1.0  0.0  0.0  0.0  0.0  0.0  0.0  0.0  0.0  0.0\n",
       " 0.0  1.0  0.0  0.0  0.0  0.0  0.0  0.0  0.0  0.0\n",
       " 0.0  0.0  0.0  0.0  0.0  0.0  1.0  0.0  0.0  0.0\n",
       " 0.0  0.0  0.0  0.0  0.0  0.0  0.0  0.0  1.0  0.0\n",
       " 0.0  0.0  1.0  0.0  0.0  0.0  0.0  0.0  0.0  0.0\n",
       " 0.0  0.0  1.0  0.0  0.0  0.0  0.0  0.0  0.0  0.0\n",
       " 0.0  0.0  1.0  0.0  0.0  0.0  0.0  0.0  0.0  0.0"
      ]
     },
     "execution_count": 2,
     "metadata": {},
     "output_type": "execute_result"
    }
   ],
   "source": [
    "# Generate some synthetic data\n",
    "x = randn(100, 50)\n",
    "w = randn(50, 10)\n",
    "y_prob = exp(x * w)\n",
    "y_prob ./= sum(y_prob, 2)\n",
    "\n",
    "function draw(probs)\n",
    "    y = zeros(size(probs))\n",
    "    for i in 1:size(probs, 1)\n",
    "        idx = rand(Categorical(probs[i,:]))\n",
    "        y[i,idx] = 1\n",
    "    end\n",
    "    return y\n",
    "end\n",
    "\n",
    "y = draw(y_prob)"
   ]
  },
  {
   "cell_type": "code",
   "execution_count": 3,
   "metadata": {},
   "outputs": [
    {
     "name": "stderr",
     "output_type": "stream",
     "text": [
      "2017-09-15 12:52:28.632482: W tensorflow/core/platform/cpu_feature_guard.cc:45] The TensorFlow library wasn't compiled to use SSE4.1 instructions, but these are available on your machine and could speed up CPU computations.\n",
      "2017-09-15 12:52:28.632498: W tensorflow/core/platform/cpu_feature_guard.cc:45] The TensorFlow library wasn't compiled to use SSE4.2 instructions, but these are available on your machine and could speed up CPU computations.\n",
      "2017-09-15 12:52:28.632501: W tensorflow/core/platform/cpu_feature_guard.cc:45] The TensorFlow library wasn't compiled to use AVX instructions, but these are available on your machine and could speed up CPU computations.\n",
      "2017-09-15 12:52:28.632503: W tensorflow/core/platform/cpu_feature_guard.cc:45] The TensorFlow library wasn't compiled to use AVX2 instructions, but these are available on your machine and could speed up CPU computations.\n",
      "2017-09-15 12:52:28.632505: W tensorflow/core/platform/cpu_feature_guard.cc:45] The TensorFlow library wasn't compiled to use FMA instructions, but these are available on your machine and could speed up CPU computations.\n"
     ]
    },
    {
     "data": {
      "text/plain": [
       "<Saver>"
      ]
     },
     "execution_count": 3,
     "metadata": {},
     "output_type": "execute_result"
    }
   ],
   "source": [
    "# Build the model\n",
    "sess = Session()\n",
    "\n",
    "X = placeholder(Float32)\n",
    "Y_obs = placeholder(Float32)\n",
    "\n",
    "W = Variable(randn(50, 10))\n",
    "B = Variable(zeros(Float32, 10))\n",
    "\n",
    "Y = nn.softmax(X * W + B)\n",
    "\n",
    "loss = -reduce_sum(log(Y) .* Y_obs)\n",
    "optimizer = train.AdamOptimizer()\n",
    "minimize_op = train.minimize(optimizer, loss)\n",
    "saver = train.Saver()"
   ]
  },
  {
   "cell_type": "code",
   "execution_count": 4,
   "metadata": {},
   "outputs": [
    {
     "name": "stderr",
     "output_type": "stream",
     "text": [
      "\u001b[1m\u001b[36mINFO: \u001b[39m\u001b[22m\u001b[36mCheckpoint files saved in /tmp/tmpXoBPhD\n",
      "\u001b[39m"
     ]
    },
    {
     "name": "stdout",
     "output_type": "stream",
     "text": [
      "Epoch 100; current loss is 878.24.\n",
      "Epoch 200; current loss is 692.79.\n",
      "Epoch 300; current loss is 533.53.\n",
      "Epoch 400; current loss is 402.77.\n",
      "Epoch 500; current loss is 300.13.\n",
      "Epoch 600; current loss is 221.25.\n",
      "Epoch 700; current loss is 158.05.\n",
      "Epoch 800; current loss is 109.41.\n",
      "Epoch 900; current loss is 73.44.\n",
      "Epoch 1000; current loss is 47.43.\n"
     ]
    }
   ],
   "source": [
    "# Run training\n",
    "run(sess, global_variables_initializer())\n",
    "\n",
    "checkpoint_path = mktempdir(); loss_his = []\n",
    "\n",
    "info(\"Checkpoint files saved in $checkpoint_path\")\n",
    "for epoch in 1:1000\n",
    "    cur_loss, _ = run(sess, [loss, minimize_op], Dict(X=>x, Y_obs=>y))\n",
    "    push!(loss_his, cur_loss)\n",
    "    if epoch % 100 == 0\n",
    "      println(@sprintf(\"Epoch %d; current loss is %.2f.\", epoch, cur_loss))\n",
    "      train.save(saver, sess, joinpath(checkpoint_path, \"logistic\"), global_step=epoch)\n",
    "    end\n",
    "end"
   ]
  },
  {
   "cell_type": "code",
   "execution_count": 5,
   "metadata": {
    "scrolled": true
   },
   "outputs": [
    {
     "data": {
      "text/html": [
       "<img src=\"data:image/png;base64,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\" />"
      ]
     },
     "execution_count": 5,
     "metadata": {},
     "output_type": "execute_result"
    }
   ],
   "source": [
    "plot(loss_his, label=\"loss\")"
   ]
  },
  {
   "cell_type": "code",
   "execution_count": null,
   "metadata": {
    "collapsed": true
   },
   "outputs": [],
   "source": []
  }
 ],
 "metadata": {
  "kernelspec": {
   "display_name": "Julia 0.6.0",
   "language": "julia",
   "name": "julia-0.6"
  },
  "language_info": {
   "file_extension": ".jl",
   "mimetype": "application/julia",
   "name": "julia",
   "version": "0.6.0"
  }
 },
 "nbformat": 4,
 "nbformat_minor": 2
}
